{
 "cells": [
  {
   "cell_type": "code",
   "execution_count": null,
   "id": "4b058e08",
   "metadata": {},
   "outputs": [
    {
     "name": "stdout",
     "output_type": "stream",
     "text": [
      "Status: Optimal\n",
      "Total Shipping Cost =  660.0\n",
      "Ship 30.0 units from W1 to S1\n",
      "Ship 70.0 units from W1 to S3\n",
      "Ship 50.0 units from W2 to S1\n",
      "Ship 100.0 units from W2 to S2\n"
     ]
    }
   ],
   "source": [
    "# Task 2\n",
    "import pulp\n",
    "\n",
    "# Define supply and demand\n",
    "supply = {\"W1\": 100, \"W2\": 150}\n",
    "demand = {\"S1\": 80, \"S2\": 100, \"S3\": 70}\n",
    "\n",
    "# Define cost matrix\n",
    "costs = {\n",
    "    (\"W1\", \"S1\"): 2, (\"W1\", \"S2\"): 4, (\"W1\", \"S3\"): 5,\n",
    "    (\"W2\", \"S1\"): 3, (\"W2\", \"S2\"): 1, (\"W2\", \"S3\"): 7,\n",
    "}\n",
    "\n",
    "# Create LP problem\n",
    "prob = pulp.LpProblem(\"Minimize_Shipping_Cost\", pulp.LpMinimize)\n",
    "x = pulp.LpVariable.dicts(\"route\", costs.keys(), lowBound=0, cat='Continuous')\n",
    "\n",
    "# Objective: Minimize total shipping cost\n",
    "prob += pulp.lpSum([x[i] * costs[i] for i in costs])\n",
    "\n",
    "# Supply constraints\n",
    "for w in supply:\n",
    "    prob += pulp.lpSum([x[(w, s)] for s in demand]) <= supply[w], f\"Supply_{w}\"\n",
    "\n",
    "# Demand constraints\n",
    "for s in demand:\n",
    "    prob += pulp.lpSum([x[(w, s)] for w in supply]) >= demand[s], f\"Demand_{s}\"\n",
    "\n",
    "# Solve\n",
    "prob.solve()\n",
    "\n",
    "# Results\n",
    "print(\"Status:\", pulp.LpStatus[prob.status])\n",
    "print(\"Total Shipping Cost = \", pulp.value(prob.objective))\n",
    "for route in x:\n",
    "    if x[route].varValue > 0:\n",
    "        print(f\"Ship {x[route].varValue} units from {route[0]} to {route[1]}\")\n"
   ]
  }
 ],
 "metadata": {
  "kernelspec": {
   "display_name": "Python 3",
   "language": "python",
   "name": "python3"
  },
  "language_info": {
   "codemirror_mode": {
    "name": "ipython",
    "version": 3
   },
   "file_extension": ".py",
   "mimetype": "text/x-python",
   "name": "python",
   "nbconvert_exporter": "python",
   "pygments_lexer": "ipython3",
   "version": "3.12.0"
  }
 },
 "nbformat": 4,
 "nbformat_minor": 5
}
