{
 "cells": [
  {
   "cell_type": "code",
   "execution_count": 2,
   "id": "3407c518",
   "metadata": {},
   "outputs": [
    {
     "name": "stdout",
     "output_type": "stream",
     "text": [
      "Nelder–Mead Method\n",
      "Optimization terminated successfully.\n",
      "         Current function value: 5.000000\n",
      "         Iterations: 72\n",
      "         Function evaluations: 142\n",
      "Result object:        message: Optimization terminated successfully.\n",
      "       success: True\n",
      "        status: 0\n",
      "           fun: 5.000000001785991\n",
      "             x: [ 3.000e+00 -1.000e+00]\n",
      "           nit: 72\n",
      "          nfev: 142\n",
      " final_simplex: (array([[ 3.000e+00, -1.000e+00],\n",
      "                       [ 3.000e+00, -1.000e+00],\n",
      "                       [ 3.000e+00, -9.999e-01]]), array([ 5.000e+00,  5.000e+00,  5.000e+00]))\n",
      "\n",
      "BFGS (with analytic gradient)\n",
      "Optimization terminated successfully.\n",
      "         Current function value: 5.000000\n",
      "         Iterations: 2\n",
      "         Function evaluations: 3\n",
      "         Gradient evaluations: 3\n",
      "Result object:   message: Optimization terminated successfully.\n",
      "  success: True\n",
      "   status: 0\n",
      "      fun: 5.0\n",
      "        x: [ 3.000e+00 -1.000e+00]\n",
      "      nit: 2\n",
      "      jac: [ 0.000e+00  2.220e-16]\n",
      " hess_inv: [[ 5.500e-01  1.500e-01]\n",
      "            [ 1.500e-01  9.500e-01]]\n",
      "     nfev: 3\n",
      "     njev: 3\n"
     ]
    }
   ],
   "source": [
    "import numpy as np\n",
    "from scipy.optimize import minimize\n",
    "\n",
    "def f(vec):\n",
    "    x, y = vec\n",
    "    return (x - 3)**2 + (y + 1)**2 + 5\n",
    "\n",
    "def grad_f(vec):\n",
    "    x, y = vec\n",
    "    # df/dx, df/dy\n",
    "    return np.array([2*(x - 3), 2*(y + 1)])\n",
    "\n",
    "# lets assume we start at 0,0\n",
    "x0 = np.array([0.0, 0.0])\n",
    "\n",
    "# Nelder–Mead\n",
    "print(\"Nelder–Mead Method\")\n",
    "res_nm = minimize(f, x0, method=\"Nelder-Mead\", options={\"disp\": True})      # disp=True prints iteration summary\n",
    "print(\"Result object:\", res_nm, end=\"\\n\\n\")\n",
    "\n",
    "# BFGS (uses gradient)\n",
    "print(\"BFGS (with analytic gradient)\")\n",
    "res_bfgs = minimize(f, x0, method=\"BFGS\", jac=grad_f, options={\"disp\": True})\n",
    "print(\"Result object:\", res_bfgs)\n"
   ]
  }
 ],
 "metadata": {
  "kernelspec": {
   "display_name": "Python 3",
   "language": "python",
   "name": "python3"
  },
  "language_info": {
   "codemirror_mode": {
    "name": "ipython",
    "version": 3
   },
   "file_extension": ".py",
   "mimetype": "text/x-python",
   "name": "python",
   "nbconvert_exporter": "python",
   "pygments_lexer": "ipython3",
   "version": "3.12.0"
  }
 },
 "nbformat": 4,
 "nbformat_minor": 5
}
